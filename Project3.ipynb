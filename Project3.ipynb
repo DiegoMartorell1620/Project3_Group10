{
 "cells": [
  {
   "cell_type": "code",
   "execution_count": 1,
   "metadata": {},
   "outputs": [],
   "source": [
    "import pandas as pd\n",
    "from pathlib import Path \n"
   ]
  },
  {
   "cell_type": "code",
   "execution_count": 2,
   "metadata": {},
   "outputs": [],
   "source": [
    "#Load CSV files\n",
    "Traffic_accidents = Path('Resources/Automobile_KSI.xlsx')\n",
    "Traffic_df = pd.read_excel(Traffic_accidents)\n",
    "\n",
    "Car_thefts = Path('Resources/Auto_Theft_Open_Data.xlsx')\n",
    "Theft_df = pd.read_excel(Car_thefts)\n"
   ]
  },
  {
   "cell_type": "code",
   "execution_count": 3,
   "metadata": {},
   "outputs": [],
   "source": [
    "#Clean Data Traffic Accident\n",
    "Traffic_df_all=Traffic_df[['DATE','YEAR','STREET1','STREET2','ROAD_CLASS','DISTRICT','LATITUDE','LONGITUDE','VISIBILITY','LIGHT','RDSFCOND','ACCLASS','INVAGE','DRIVCOND','ALCOHOL','HOOD_158','NEIGHBOURHOOD_158']]\n",
    "Traffic_df_2018_2023 = Traffic_df_all.loc[Traffic_df_all['YEAR'].isin([2018, 2019, 2020,2021,2022,2023])]\n",
    "Traffic_df_clean_2018_2023=Traffic_df_2018_2023[Traffic_df_2018_2023['HOOD_158'] != 'NSA']\n",
    "Traffic_df_clean_2018_2023.reset_index(drop=True, inplace=True)\n"
   ]
  },
  {
   "cell_type": "code",
   "execution_count": 4,
   "metadata": {},
   "outputs": [
    {
     "name": "stderr",
     "output_type": "stream",
     "text": [
      "C:\\Users\\cadkm\\AppData\\Local\\Temp\\ipykernel_12708\\1434669781.py:4: SettingWithCopyWarning: \n",
      "A value is trying to be set on a copy of a slice from a DataFrame\n",
      "\n",
      "See the caveats in the documentation: https://pandas.pydata.org/pandas-docs/stable/user_guide/indexing.html#returning-a-view-versus-a-copy\n",
      "  Theft_df_2018_2023.rename(columns={'REPORT_YEAR': 'YEAR'}, inplace=True)\n"
     ]
    }
   ],
   "source": [
    "#Clean Data Theft \n",
    "Theft_df_all=Theft_df[['OCC_DATE','REPORT_YEAR','REPORT_MONTH','OFFENCE','HOOD_158','NEIGHBOURHOOD_158']]\n",
    "Theft_df_2018_2023 = Theft_df_all.loc[Theft_df_all['REPORT_YEAR'].isin([2018, 2019, 2020,2021,2022,2023])]\n",
    "Theft_df_2018_2023.rename(columns={'REPORT_YEAR': 'YEAR'}, inplace=True)\n",
    "Theft_df_clean_2018_2023 = Theft_df_2018_2023[Theft_df_2018_2023['HOOD_158'] != 'NSA']\n",
    "Theft_df_clean_2018_2023.reset_index(drop=True, inplace=True)"
   ]
  },
  {
   "cell_type": "code",
   "execution_count": 5,
   "metadata": {},
   "outputs": [],
   "source": [
    "# Convert the DataFrame to JSON format\n",
    "json_traffic = Traffic_df_clean_2018_2023.to_json(orient='records')\n",
    "json_theft = Theft_df_clean_2018_2023.to_json(orient='records')\n",
    "\n",
    "# Write the JSON data to a new file\n",
    "with open('Resources/traffic_accidents_data.json', 'w') as json_file:\n",
    "    json_file.write(json_traffic)\n",
    "\n",
    "with open('Resources/theft_data.json', 'w') as json_file:\n",
    "    json_file.write(json_theft)"
   ]
  },
  {
   "cell_type": "code",
   "execution_count": 6,
   "metadata": {},
   "outputs": [
    {
     "data": {
      "text/plain": [
       "44176"
      ]
     },
     "execution_count": 6,
     "metadata": {},
     "output_type": "execute_result"
    }
   ],
   "source": [
    "#Store the dataframe Theft_df_clean_2018_2023 in sqlite\n",
    "from sqlalchemy import create_engine\n",
    "engine = create_engine('sqlite:///Resources/theft_data.db')\n",
    "Theft_df_clean_2018_2023.to_sql('theft_data', con=engine, index=False)"
   ]
  },
  {
   "cell_type": "code",
   "execution_count": 7,
   "metadata": {},
   "outputs": [
    {
     "data": {
      "text/plain": [
       "4253"
      ]
     },
     "execution_count": 7,
     "metadata": {},
     "output_type": "execute_result"
    }
   ],
   "source": [
    "#Store the dataframe Traffic_df_clean_2018_2023 in sqlite\n",
    "engine = create_engine('sqlite:///Resources/traffic_accidents_data.db')\n",
    "Traffic_df_clean_2018_2023.to_sql('traffic_accidents_data', con=engine, index=False)"
   ]
  }
 ],
 "metadata": {
  "kernelspec": {
   "display_name": "Python 3 (ipykernel)",
   "language": "python",
   "name": "python3"
  },
  "language_info": {
   "codemirror_mode": {
    "name": "ipython",
    "version": 3
   },
   "file_extension": ".py",
   "mimetype": "text/x-python",
   "name": "python",
   "nbconvert_exporter": "python",
   "pygments_lexer": "ipython3",
   "version": "3.1.undefined"
   "version": "3.10.13"
  },
  "vscode": {
   "interpreter": {
    "hash": "31f2aee4e71d21fbe5cf8b01ff0e069b9275f58929596ceb00d14d90e3e16cd6"
   }
  }
 },
 "nbformat": 4,
 "nbformat_minor": 4
}
